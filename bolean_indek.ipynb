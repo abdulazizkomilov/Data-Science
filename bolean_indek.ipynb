{
  "nbformat": 4,
  "nbformat_minor": 0,
  "metadata": {
    "colab": {
      "name": "bolean_indek.ipynb",
      "provenance": [],
      "authorship_tag": "ABX9TyMzAJLAlFLNbq3qP3xpP6/i",
      "include_colab_link": true
    },
    "kernelspec": {
      "name": "python3",
      "display_name": "Python 3"
    },
    "language_info": {
      "name": "python"
    }
  },
  "cells": [
    {
      "cell_type": "markdown",
      "metadata": {
        "id": "view-in-github",
        "colab_type": "text"
      },
      "source": [
        "<a href=\"https://colab.research.google.com/github/abdulazizkomilov/Data-Science/blob/main/bolean_indek.ipynb\" target=\"_parent\"><img src=\"https://colab.research.google.com/assets/colab-badge.svg\" alt=\"Open In Colab\"/></a>"
      ]
    },
    {
      "cell_type": "code",
      "metadata": {
        "colab": {
          "base_uri": "https://localhost:8080/"
        },
        "id": "fRRuJPJUhhnk",
        "outputId": "c0e43e5e-0467-4f72-a4d9-5ddc69f9dc5b"
      },
      "source": [
        "import numpy as np\n",
        "names = np.array(['Hasan', 'Husan', 'Mirzabek', 'Elyor', 'Hasan', 'Javohir', 'Elyor'])\n",
        "names"
      ],
      "execution_count": 3,
      "outputs": [
        {
          "output_type": "execute_result",
          "data": {
            "text/plain": [
              "array(['Hasan', 'Husan', 'Mirzabek', 'Elyor', 'Hasan', 'Javohir', 'Elyor'],\n",
              "      dtype='<U8')"
            ]
          },
          "metadata": {},
          "execution_count": 3
        }
      ]
    },
    {
      "cell_type": "code",
      "metadata": {
        "colab": {
          "base_uri": "https://localhost:8080/"
        },
        "id": "U_pw-XfYiDmZ",
        "outputId": "420d7030-c4be-4d15-b656-1c3bf2192e73"
      },
      "source": [
        "data = np.random.randn(7, 4)\n",
        "data"
      ],
      "execution_count": 5,
      "outputs": [
        {
          "output_type": "execute_result",
          "data": {
            "text/plain": [
              "array([[ 0.93446034, -0.62816683, -0.07651945,  1.40812817],\n",
              "       [ 1.75256986, -2.26355012,  1.46941674,  0.87071357],\n",
              "       [-0.29877088,  1.70057914,  0.15190711, -0.23664418],\n",
              "       [-0.48006671, -1.20501022,  0.38675199,  0.30910987],\n",
              "       [ 0.32466266, -2.50518941,  1.16287971,  0.63958517],\n",
              "       [-0.52420398,  0.6440579 , -1.07813263,  1.08301061],\n",
              "       [ 0.81451347,  1.34697516, -0.64594248,  0.48597371]])"
            ]
          },
          "metadata": {},
          "execution_count": 5
        }
      ]
    },
    {
      "cell_type": "code",
      "metadata": {
        "colab": {
          "base_uri": "https://localhost:8080/"
        },
        "id": "DPJjodp-iTgl",
        "outputId": "f3472acc-5ab3-42ea-d1c5-16acf5122489"
      },
      "source": [
        "data[~(names == 'Hasan')]"
      ],
      "execution_count": 7,
      "outputs": [
        {
          "output_type": "execute_result",
          "data": {
            "text/plain": [
              "array([[ 1.75256986, -2.26355012,  1.46941674,  0.87071357],\n",
              "       [-0.29877088,  1.70057914,  0.15190711, -0.23664418],\n",
              "       [-0.48006671, -1.20501022,  0.38675199,  0.30910987],\n",
              "       [-0.52420398,  0.6440579 , -1.07813263,  1.08301061],\n",
              "       [ 0.81451347,  1.34697516, -0.64594248,  0.48597371]])"
            ]
          },
          "metadata": {},
          "execution_count": 7
        }
      ]
    },
    {
      "cell_type": "code",
      "metadata": {
        "colab": {
          "base_uri": "https://localhost:8080/"
        },
        "id": "d88Ob2hZikKS",
        "outputId": "be70fb9c-a17e-4509-ea0e-fec4ce728cd7"
      },
      "source": [
        "mask = (names=='Hasan') | (names=='Husan')\n",
        "mask"
      ],
      "execution_count": 19,
      "outputs": [
        {
          "output_type": "execute_result",
          "data": {
            "text/plain": [
              "array([ True,  True, False, False,  True, False, False])"
            ]
          },
          "metadata": {},
          "execution_count": 19
        }
      ]
    },
    {
      "cell_type": "code",
      "metadata": {
        "colab": {
          "base_uri": "https://localhost:8080/"
        },
        "id": "Z2Aj-lxli8CC",
        "outputId": "30a80a1a-d8d0-4076-fd0d-8bdfe644d209"
      },
      "source": [
        "data[mask]"
      ],
      "execution_count": 20,
      "outputs": [
        {
          "output_type": "execute_result",
          "data": {
            "text/plain": [
              "array([[ 0.93446034, -0.62816683, -0.07651945,  1.40812817],\n",
              "       [ 1.75256986, -2.26355012,  1.46941674,  0.87071357],\n",
              "       [ 0.32466266, -2.50518941,  1.16287971,  0.63958517]])"
            ]
          },
          "metadata": {},
          "execution_count": 20
        }
      ]
    },
    {
      "cell_type": "code",
      "metadata": {
        "colab": {
          "base_uri": "https://localhost:8080/"
        },
        "id": "mVGh63GakY8Z",
        "outputId": "6dd2bc43-080f-46f9-a029-b37698557adb"
      },
      "source": [
        "data[data<0] = 0\n",
        "data"
      ],
      "execution_count": 22,
      "outputs": [
        {
          "output_type": "execute_result",
          "data": {
            "text/plain": [
              "array([[0.93446034, 0.        , 0.        , 1.40812817],\n",
              "       [1.75256986, 0.        , 1.46941674, 0.87071357],\n",
              "       [0.        , 1.70057914, 0.15190711, 0.        ],\n",
              "       [0.        , 0.        , 0.38675199, 0.30910987],\n",
              "       [0.32466266, 0.        , 1.16287971, 0.63958517],\n",
              "       [0.        , 0.6440579 , 0.        , 1.08301061],\n",
              "       [0.81451347, 1.34697516, 0.        , 0.48597371]])"
            ]
          },
          "metadata": {},
          "execution_count": 22
        }
      ]
    },
    {
      "cell_type": "code",
      "metadata": {
        "id": "aolFOXgwlCpw"
      },
      "source": [
        ""
      ],
      "execution_count": null,
      "outputs": []
    }
  ]
}