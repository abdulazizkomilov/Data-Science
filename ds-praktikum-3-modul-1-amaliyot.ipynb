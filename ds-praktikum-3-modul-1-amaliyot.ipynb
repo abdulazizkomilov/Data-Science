{
 "cells": [
  {
   "cell_type": "code",
   "execution_count": 1,
   "id": "264eb36d",
   "metadata": {
    "_cell_guid": "b1076dfc-b9ad-4769-8c92-a6c4dae69d19",
    "_uuid": "8f2839f25d086af736a60e9eeb907d3b93b6e0e5",
    "execution": {
     "iopub.execute_input": "2022-07-16T06:12:31.506145Z",
     "iopub.status.busy": "2022-07-16T06:12:31.504931Z",
     "iopub.status.idle": "2022-07-16T06:12:31.524300Z",
     "shell.execute_reply": "2022-07-16T06:12:31.523185Z",
     "shell.execute_reply.started": "2022-07-16T05:38:39.305711Z"
    },
    "papermill": {
     "duration": 0.039896,
     "end_time": "2022-07-16T06:12:31.524560",
     "exception": false,
     "start_time": "2022-07-16T06:12:31.484664",
     "status": "completed"
    },
    "tags": []
   },
   "outputs": [
    {
     "name": "stdout",
     "output_type": "stream",
     "text": [
      "/kaggle/input/melbourne-housing-snapshot/melb_data.csv\n"
     ]
    }
   ],
   "source": [
    "# This Python 3 environment comes with many helpful analytics libraries installed\n",
    "# It is defined by the kaggle/python Docker image: https://github.com/kaggle/docker-python\n",
    "# For example, here's several helpful packages to load\n",
    "\n",
    "import numpy as np # linear algebra\n",
    "import pandas as pd # data processing, CSV file I/O (e.g. pd.read_csv)\n",
    "\n",
    "# Input data files are available in the read-only \"../input/\" directory\n",
    "# For example, running this (by clicking run or pressing Shift+Enter) will list all files under the input directory\n",
    "\n",
    "import os\n",
    "for dirname, _, filenames in os.walk('/kaggle/input'):\n",
    "    for filename in filenames:\n",
    "        print(os.path.join(dirname, filename))\n",
    "\n",
    "# You can write up to 20GB to the current directory (/kaggle/working/) that gets preserved as output when you create a version using \"Save & Run All\" \n",
    "# You can also write temporary files to /kaggle/temp/, but they won't be saved outside of the current session"
   ]
  },
  {
   "cell_type": "code",
   "execution_count": 2,
   "id": "a9558092",
   "metadata": {
    "execution": {
     "iopub.execute_input": "2022-07-16T06:12:31.566005Z",
     "iopub.status.busy": "2022-07-16T06:12:31.565283Z",
     "iopub.status.idle": "2022-07-16T06:12:31.687719Z",
     "shell.execute_reply": "2022-07-16T06:12:31.687081Z",
     "shell.execute_reply.started": "2022-07-16T06:04:25.849493Z"
    },
    "papermill": {
     "duration": 0.145127,
     "end_time": "2022-07-16T06:12:31.687872",
     "exception": false,
     "start_time": "2022-07-16T06:12:31.542745",
     "status": "completed"
    },
    "tags": []
   },
   "outputs": [
    {
     "data": {
      "text/html": [
       "<div>\n",
       "<style scoped>\n",
       "    .dataframe tbody tr th:only-of-type {\n",
       "        vertical-align: middle;\n",
       "    }\n",
       "\n",
       "    .dataframe tbody tr th {\n",
       "        vertical-align: top;\n",
       "    }\n",
       "\n",
       "    .dataframe thead th {\n",
       "        text-align: right;\n",
       "    }\n",
       "</style>\n",
       "<table border=\"1\" class=\"dataframe\">\n",
       "  <thead>\n",
       "    <tr style=\"text-align: right;\">\n",
       "      <th></th>\n",
       "      <th>Suburb</th>\n",
       "      <th>Address</th>\n",
       "      <th>Rooms</th>\n",
       "      <th>Type</th>\n",
       "      <th>Price</th>\n",
       "      <th>Method</th>\n",
       "      <th>SellerG</th>\n",
       "      <th>Date</th>\n",
       "      <th>Distance</th>\n",
       "      <th>Postcode</th>\n",
       "      <th>...</th>\n",
       "      <th>Bathroom</th>\n",
       "      <th>Car</th>\n",
       "      <th>Landsize</th>\n",
       "      <th>BuildingArea</th>\n",
       "      <th>YearBuilt</th>\n",
       "      <th>CouncilArea</th>\n",
       "      <th>Lattitude</th>\n",
       "      <th>Longtitude</th>\n",
       "      <th>Regionname</th>\n",
       "      <th>Propertycount</th>\n",
       "    </tr>\n",
       "  </thead>\n",
       "  <tbody>\n",
       "    <tr>\n",
       "      <th>0</th>\n",
       "      <td>Abbotsford</td>\n",
       "      <td>85 Turner St</td>\n",
       "      <td>2</td>\n",
       "      <td>h</td>\n",
       "      <td>1480000.0</td>\n",
       "      <td>S</td>\n",
       "      <td>Biggin</td>\n",
       "      <td>3/12/2016</td>\n",
       "      <td>2.5</td>\n",
       "      <td>3067.0</td>\n",
       "      <td>...</td>\n",
       "      <td>1.0</td>\n",
       "      <td>1.0</td>\n",
       "      <td>202.0</td>\n",
       "      <td>NaN</td>\n",
       "      <td>NaN</td>\n",
       "      <td>Yarra</td>\n",
       "      <td>-37.7996</td>\n",
       "      <td>144.9984</td>\n",
       "      <td>Northern Metropolitan</td>\n",
       "      <td>4019.0</td>\n",
       "    </tr>\n",
       "    <tr>\n",
       "      <th>1</th>\n",
       "      <td>Abbotsford</td>\n",
       "      <td>25 Bloomburg St</td>\n",
       "      <td>2</td>\n",
       "      <td>h</td>\n",
       "      <td>1035000.0</td>\n",
       "      <td>S</td>\n",
       "      <td>Biggin</td>\n",
       "      <td>4/02/2016</td>\n",
       "      <td>2.5</td>\n",
       "      <td>3067.0</td>\n",
       "      <td>...</td>\n",
       "      <td>1.0</td>\n",
       "      <td>0.0</td>\n",
       "      <td>156.0</td>\n",
       "      <td>79.0</td>\n",
       "      <td>1900.0</td>\n",
       "      <td>Yarra</td>\n",
       "      <td>-37.8079</td>\n",
       "      <td>144.9934</td>\n",
       "      <td>Northern Metropolitan</td>\n",
       "      <td>4019.0</td>\n",
       "    </tr>\n",
       "    <tr>\n",
       "      <th>2</th>\n",
       "      <td>Abbotsford</td>\n",
       "      <td>5 Charles St</td>\n",
       "      <td>3</td>\n",
       "      <td>h</td>\n",
       "      <td>1465000.0</td>\n",
       "      <td>SP</td>\n",
       "      <td>Biggin</td>\n",
       "      <td>4/03/2017</td>\n",
       "      <td>2.5</td>\n",
       "      <td>3067.0</td>\n",
       "      <td>...</td>\n",
       "      <td>2.0</td>\n",
       "      <td>0.0</td>\n",
       "      <td>134.0</td>\n",
       "      <td>150.0</td>\n",
       "      <td>1900.0</td>\n",
       "      <td>Yarra</td>\n",
       "      <td>-37.8093</td>\n",
       "      <td>144.9944</td>\n",
       "      <td>Northern Metropolitan</td>\n",
       "      <td>4019.0</td>\n",
       "    </tr>\n",
       "    <tr>\n",
       "      <th>3</th>\n",
       "      <td>Abbotsford</td>\n",
       "      <td>40 Federation La</td>\n",
       "      <td>3</td>\n",
       "      <td>h</td>\n",
       "      <td>850000.0</td>\n",
       "      <td>PI</td>\n",
       "      <td>Biggin</td>\n",
       "      <td>4/03/2017</td>\n",
       "      <td>2.5</td>\n",
       "      <td>3067.0</td>\n",
       "      <td>...</td>\n",
       "      <td>2.0</td>\n",
       "      <td>1.0</td>\n",
       "      <td>94.0</td>\n",
       "      <td>NaN</td>\n",
       "      <td>NaN</td>\n",
       "      <td>Yarra</td>\n",
       "      <td>-37.7969</td>\n",
       "      <td>144.9969</td>\n",
       "      <td>Northern Metropolitan</td>\n",
       "      <td>4019.0</td>\n",
       "    </tr>\n",
       "    <tr>\n",
       "      <th>4</th>\n",
       "      <td>Abbotsford</td>\n",
       "      <td>55a Park St</td>\n",
       "      <td>4</td>\n",
       "      <td>h</td>\n",
       "      <td>1600000.0</td>\n",
       "      <td>VB</td>\n",
       "      <td>Nelson</td>\n",
       "      <td>4/06/2016</td>\n",
       "      <td>2.5</td>\n",
       "      <td>3067.0</td>\n",
       "      <td>...</td>\n",
       "      <td>1.0</td>\n",
       "      <td>2.0</td>\n",
       "      <td>120.0</td>\n",
       "      <td>142.0</td>\n",
       "      <td>2014.0</td>\n",
       "      <td>Yarra</td>\n",
       "      <td>-37.8072</td>\n",
       "      <td>144.9941</td>\n",
       "      <td>Northern Metropolitan</td>\n",
       "      <td>4019.0</td>\n",
       "    </tr>\n",
       "  </tbody>\n",
       "</table>\n",
       "<p>5 rows × 21 columns</p>\n",
       "</div>"
      ],
      "text/plain": [
       "       Suburb           Address  Rooms Type      Price Method SellerG  \\\n",
       "0  Abbotsford      85 Turner St      2    h  1480000.0      S  Biggin   \n",
       "1  Abbotsford   25 Bloomburg St      2    h  1035000.0      S  Biggin   \n",
       "2  Abbotsford      5 Charles St      3    h  1465000.0     SP  Biggin   \n",
       "3  Abbotsford  40 Federation La      3    h   850000.0     PI  Biggin   \n",
       "4  Abbotsford       55a Park St      4    h  1600000.0     VB  Nelson   \n",
       "\n",
       "        Date  Distance  Postcode  ...  Bathroom  Car  Landsize  BuildingArea  \\\n",
       "0  3/12/2016       2.5    3067.0  ...       1.0  1.0     202.0           NaN   \n",
       "1  4/02/2016       2.5    3067.0  ...       1.0  0.0     156.0          79.0   \n",
       "2  4/03/2017       2.5    3067.0  ...       2.0  0.0     134.0         150.0   \n",
       "3  4/03/2017       2.5    3067.0  ...       2.0  1.0      94.0           NaN   \n",
       "4  4/06/2016       2.5    3067.0  ...       1.0  2.0     120.0         142.0   \n",
       "\n",
       "   YearBuilt  CouncilArea Lattitude  Longtitude             Regionname  \\\n",
       "0        NaN        Yarra  -37.7996    144.9984  Northern Metropolitan   \n",
       "1     1900.0        Yarra  -37.8079    144.9934  Northern Metropolitan   \n",
       "2     1900.0        Yarra  -37.8093    144.9944  Northern Metropolitan   \n",
       "3        NaN        Yarra  -37.7969    144.9969  Northern Metropolitan   \n",
       "4     2014.0        Yarra  -37.8072    144.9941  Northern Metropolitan   \n",
       "\n",
       "  Propertycount  \n",
       "0        4019.0  \n",
       "1        4019.0  \n",
       "2        4019.0  \n",
       "3        4019.0  \n",
       "4        4019.0  \n",
       "\n",
       "[5 rows x 21 columns]"
      ]
     },
     "execution_count": 2,
     "metadata": {},
     "output_type": "execute_result"
    }
   ],
   "source": [
    "df = pd.read_csv(\"/kaggle/input/melbourne-housing-snapshot/melb_data.csv\")\n",
    "df.head()"
   ]
  },
  {
   "cell_type": "markdown",
   "id": "e0bd965e",
   "metadata": {
    "papermill": {
     "duration": 0.016785,
     "end_time": "2022-07-16T06:12:31.721671",
     "exception": false,
     "start_time": "2022-07-16T06:12:31.704886",
     "status": "completed"
    },
    "tags": []
   },
   "source": [
    "Yuqoridagi jadval Avstraliyaning Melburn shahridagi sotiladigna uylar haqidagi ma'lumotlarni jamlagan. Batafsil https://www.kaggle.com/dansbecker/melbourne-housing-snapshot/home"
   ]
  },
  {
   "cell_type": "markdown",
   "id": "0cf211a4",
   "metadata": {
    "papermill": {
     "duration": 0.016815,
     "end_time": "2022-07-16T06:12:31.756017",
     "exception": false,
     "start_time": "2022-07-16T06:12:31.739202",
     "status": "completed"
    },
    "tags": []
   },
   "source": [
    "## 1-VAZIFA: `df` qatorlari sonini chiqaring"
   ]
  },
  {
   "cell_type": "code",
   "execution_count": 3,
   "id": "5318d823",
   "metadata": {
    "execution": {
     "iopub.execute_input": "2022-07-16T06:12:31.795541Z",
     "iopub.status.busy": "2022-07-16T06:12:31.792464Z",
     "iopub.status.idle": "2022-07-16T06:12:31.798569Z",
     "shell.execute_reply": "2022-07-16T06:12:31.799173Z",
     "shell.execute_reply.started": "2022-07-16T05:38:51.496416Z"
    },
    "papermill": {
     "duration": 0.026371,
     "end_time": "2022-07-16T06:12:31.799344",
     "exception": false,
     "start_time": "2022-07-16T06:12:31.772973",
     "status": "completed"
    },
    "tags": []
   },
   "outputs": [
    {
     "data": {
      "text/plain": [
       "(13580, 21)"
      ]
     },
     "execution_count": 3,
     "metadata": {},
     "output_type": "execute_result"
    }
   ],
   "source": [
    "#Javobingizni shu yerga yozing\n",
    "df.shape"
   ]
  },
  {
   "cell_type": "markdown",
   "id": "d2b24ec5",
   "metadata": {
    "papermill": {
     "duration": 0.016956,
     "end_time": "2022-07-16T06:12:31.833519",
     "exception": false,
     "start_time": "2022-07-16T06:12:31.816563",
     "status": "completed"
    },
    "tags": []
   },
   "source": [
    "## 2-VAZIFA. `df` haqida statistik ma'lumotlarni chiqaring"
   ]
  },
  {
   "cell_type": "code",
   "execution_count": 4,
   "id": "f1ab0321",
   "metadata": {
    "execution": {
     "iopub.execute_input": "2022-07-16T06:12:31.878542Z",
     "iopub.status.busy": "2022-07-16T06:12:31.877856Z",
     "iopub.status.idle": "2022-07-16T06:12:31.919590Z",
     "shell.execute_reply": "2022-07-16T06:12:31.918868Z",
     "shell.execute_reply.started": "2022-07-16T05:58:54.529391Z"
    },
    "papermill": {
     "duration": 0.068954,
     "end_time": "2022-07-16T06:12:31.919735",
     "exception": false,
     "start_time": "2022-07-16T06:12:31.850781",
     "status": "completed"
    },
    "tags": []
   },
   "outputs": [
    {
     "data": {
      "text/plain": [
       "<bound method NDFrame.describe of 0            85 Turner St\n",
       "1         25 Bloomburg St\n",
       "2            5 Charles St\n",
       "3        40 Federation La\n",
       "4             55a Park St\n",
       "               ...       \n",
       "13575        12 Strada Cr\n",
       "13576       77 Merrett Dr\n",
       "13577         83 Power St\n",
       "13578        96 Verdon St\n",
       "13579          6 Agnes St\n",
       "Name: Address, Length: 13580, dtype: object>"
      ]
     },
     "execution_count": 4,
     "metadata": {},
     "output_type": "execute_result"
    }
   ],
   "source": [
    "#Javobingizni shu yerga yozing\n",
    "df.describe()\n",
    "df.Address.describe"
   ]
  },
  {
   "cell_type": "markdown",
   "id": "fd377d5c",
   "metadata": {
    "papermill": {
     "duration": 0.017473,
     "end_time": "2022-07-16T06:12:31.955209",
     "exception": false,
     "start_time": "2022-07-16T06:12:31.937736",
     "status": "completed"
    },
    "tags": []
   },
   "source": [
    "## 3-VAZIFA: Har bir ustundagi `NaN` qiymatlar sonini chiqaring"
   ]
  },
  {
   "cell_type": "code",
   "execution_count": 5,
   "id": "95b47184",
   "metadata": {
    "execution": {
     "iopub.execute_input": "2022-07-16T06:12:32.007714Z",
     "iopub.status.busy": "2022-07-16T06:12:31.993672Z",
     "iopub.status.idle": "2022-07-16T06:12:32.014838Z",
     "shell.execute_reply": "2022-07-16T06:12:32.015415Z",
     "shell.execute_reply.started": "2022-07-16T05:59:47.891065Z"
    },
    "papermill": {
     "duration": 0.042583,
     "end_time": "2022-07-16T06:12:32.015595",
     "exception": false,
     "start_time": "2022-07-16T06:12:31.973012",
     "status": "completed"
    },
    "tags": []
   },
   "outputs": [
    {
     "data": {
      "text/plain": [
       "Suburb              0\n",
       "Address             0\n",
       "Rooms               0\n",
       "Type                0\n",
       "Price               0\n",
       "Method              0\n",
       "SellerG             0\n",
       "Date                0\n",
       "Distance            0\n",
       "Postcode            0\n",
       "Bedroom2            0\n",
       "Bathroom            0\n",
       "Car                62\n",
       "Landsize            0\n",
       "BuildingArea     6450\n",
       "YearBuilt        5375\n",
       "CouncilArea      1369\n",
       "Lattitude           0\n",
       "Longtitude          0\n",
       "Regionname          0\n",
       "Propertycount       0\n",
       "dtype: int64"
      ]
     },
     "execution_count": 5,
     "metadata": {},
     "output_type": "execute_result"
    }
   ],
   "source": [
    "#Javobingizni shu yerga yozing\n",
    "df.isnull().sum()"
   ]
  },
  {
   "cell_type": "markdown",
   "id": "bdba985f",
   "metadata": {
    "papermill": {
     "duration": 0.018049,
     "end_time": "2022-07-16T06:12:32.051777",
     "exception": false,
     "start_time": "2022-07-16T06:12:32.033728",
     "status": "completed"
    },
    "tags": []
   },
   "source": [
    "## 4-VAZIFA. Har bir ustun uchun `NaN` qiymatlar necha fozini tashkil qilishini toping"
   ]
  },
  {
   "cell_type": "code",
   "execution_count": 6,
   "id": "87a5c34f",
   "metadata": {
    "execution": {
     "iopub.execute_input": "2022-07-16T06:12:32.107415Z",
     "iopub.status.busy": "2022-07-16T06:12:32.106438Z",
     "iopub.status.idle": "2022-07-16T06:12:32.114035Z",
     "shell.execute_reply": "2022-07-16T06:12:32.114602Z",
     "shell.execute_reply.started": "2022-07-16T06:00:43.737816Z"
    },
    "papermill": {
     "duration": 0.044178,
     "end_time": "2022-07-16T06:12:32.114777",
     "exception": false,
     "start_time": "2022-07-16T06:12:32.070599",
     "status": "completed"
    },
    "tags": []
   },
   "outputs": [
    {
     "data": {
      "text/plain": [
       "Suburb            0.000000\n",
       "Address           0.000000\n",
       "Rooms             0.000000\n",
       "Type              0.000000\n",
       "Price             0.000000\n",
       "Method            0.000000\n",
       "SellerG           0.000000\n",
       "Date              0.000000\n",
       "Distance          0.000000\n",
       "Postcode          0.000000\n",
       "Bedroom2          0.000000\n",
       "Bathroom          0.000000\n",
       "Car               0.456554\n",
       "Landsize          0.000000\n",
       "BuildingArea     47.496318\n",
       "YearBuilt        39.580265\n",
       "CouncilArea      10.081001\n",
       "Lattitude         0.000000\n",
       "Longtitude        0.000000\n",
       "Regionname        0.000000\n",
       "Propertycount     0.000000\n",
       "dtype: float64"
      ]
     },
     "execution_count": 6,
     "metadata": {},
     "output_type": "execute_result"
    }
   ],
   "source": [
    "#Javobingizni shu yerga yozing\n",
    "nulls = df.isnull().sum()\n",
    "rows = df.shape[0]\n",
    "(nulls/rows)*100"
   ]
  },
  {
   "cell_type": "markdown",
   "id": "2cc1e636",
   "metadata": {
    "papermill": {
     "duration": 0.018131,
     "end_time": "2022-07-16T06:12:32.151206",
     "exception": false,
     "start_time": "2022-07-16T06:12:32.133075",
     "status": "completed"
    },
    "tags": []
   },
   "source": [
    "## 5-VAZIFA. Barcha `NaN` qatnashgan qatorlarni tashlab yuboring (natijani **SAQLAMANG!!!**)"
   ]
  },
  {
   "cell_type": "code",
   "execution_count": 7,
   "id": "c898137d",
   "metadata": {
    "execution": {
     "iopub.execute_input": "2022-07-16T06:12:32.206526Z",
     "iopub.status.busy": "2022-07-16T06:12:32.205517Z",
     "iopub.status.idle": "2022-07-16T06:12:32.213011Z",
     "shell.execute_reply": "2022-07-16T06:12:32.213658Z",
     "shell.execute_reply.started": "2022-07-16T06:05:44.294456Z"
    },
    "papermill": {
     "duration": 0.044173,
     "end_time": "2022-07-16T06:12:32.213844",
     "exception": false,
     "start_time": "2022-07-16T06:12:32.169671",
     "status": "completed"
    },
    "tags": []
   },
   "outputs": [
    {
     "data": {
      "text/plain": [
       "(6196, 21)"
      ]
     },
     "execution_count": 7,
     "metadata": {},
     "output_type": "execute_result"
    }
   ],
   "source": [
    "#Javobingizni shu yerga yozing\n",
    "df2 = df.dropna()\n",
    "df2.shape"
   ]
  },
  {
   "cell_type": "markdown",
   "id": "8e08d69e",
   "metadata": {
    "papermill": {
     "duration": 0.01847,
     "end_time": "2022-07-16T06:12:32.250776",
     "exception": false,
     "start_time": "2022-07-16T06:12:32.232306",
     "status": "completed"
    },
    "tags": []
   },
   "source": [
    "## 6-VAZIFA. Barcha `NaN` bor ustunlarni tashlab yuboring (natijani **SAQLAMANG!!!**)"
   ]
  },
  {
   "cell_type": "code",
   "execution_count": 8,
   "id": "39cdb9d4",
   "metadata": {
    "execution": {
     "iopub.execute_input": "2022-07-16T06:12:32.306847Z",
     "iopub.status.busy": "2022-07-16T06:12:32.305855Z",
     "iopub.status.idle": "2022-07-16T06:12:32.314156Z",
     "shell.execute_reply": "2022-07-16T06:12:32.314755Z",
     "shell.execute_reply.started": "2022-07-16T06:02:08.242249Z"
    },
    "papermill": {
     "duration": 0.045272,
     "end_time": "2022-07-16T06:12:32.314932",
     "exception": false,
     "start_time": "2022-07-16T06:12:32.269660",
     "status": "completed"
    },
    "tags": []
   },
   "outputs": [
    {
     "data": {
      "text/plain": [
       "(13580, 17)"
      ]
     },
     "execution_count": 8,
     "metadata": {},
     "output_type": "execute_result"
    }
   ],
   "source": [
    "#Javobingizni shu yerga yozing\n",
    "df2 = df.dropna(axis=1)\n",
    "df2.shape"
   ]
  },
  {
   "cell_type": "markdown",
   "id": "5ffaa999",
   "metadata": {
    "papermill": {
     "duration": 0.018578,
     "end_time": "2022-07-16T06:12:32.352360",
     "exception": false,
     "start_time": "2022-07-16T06:12:32.333782",
     "status": "completed"
    },
    "tags": []
   },
   "source": [
    "## 7-VAZIFA. Eng ko'p NaN qiymatlar bor ustundagi NaN qatorlarini tashlab yuboring (natijani SAQLAMANG!!!)¶"
   ]
  },
  {
   "cell_type": "code",
   "execution_count": 9,
   "id": "247125b5",
   "metadata": {
    "execution": {
     "iopub.execute_input": "2022-07-16T06:12:32.394603Z",
     "iopub.status.busy": "2022-07-16T06:12:32.393540Z",
     "iopub.status.idle": "2022-07-16T06:12:32.405615Z",
     "shell.execute_reply": "2022-07-16T06:12:32.406193Z",
     "shell.execute_reply.started": "2022-07-16T06:04:36.417567Z"
    },
    "papermill": {
     "duration": 0.034632,
     "end_time": "2022-07-16T06:12:32.406416",
     "exception": false,
     "start_time": "2022-07-16T06:12:32.371784",
     "status": "completed"
    },
    "tags": []
   },
   "outputs": [
    {
     "data": {
      "text/plain": [
       "(6196, 21)"
      ]
     },
     "execution_count": 9,
     "metadata": {},
     "output_type": "execute_result"
    }
   ],
   "source": [
    "#Javobingizni shu yerga yozing\n",
    "df2 = df.dropna(subset=['BuildingArea','YearBuilt', 'CouncilArea'], )\n",
    "df2.shape"
   ]
  },
  {
   "cell_type": "markdown",
   "id": "fdf5399e",
   "metadata": {
    "papermill": {
     "duration": 0.018781,
     "end_time": "2022-07-16T06:12:32.444283",
     "exception": false,
     "start_time": "2022-07-16T06:12:32.425502",
     "status": "completed"
    },
    "tags": []
   },
   "source": [
    "## 8-VAZIFA. Eng kam `NaN` qiymatlar mavjud ustunning **`NaN` qatnashgan qatorlarini** tashlab yuboring va natijani asl `df` da saqlab qoling."
   ]
  },
  {
   "cell_type": "code",
   "execution_count": 10,
   "id": "0851d520",
   "metadata": {
    "execution": {
     "iopub.execute_input": "2022-07-16T06:12:32.488126Z",
     "iopub.status.busy": "2022-07-16T06:12:32.487498Z",
     "iopub.status.idle": "2022-07-16T06:12:32.506153Z",
     "shell.execute_reply": "2022-07-16T06:12:32.505638Z",
     "shell.execute_reply.started": "2022-07-16T06:04:07.086736Z"
    },
    "papermill": {
     "duration": 0.042854,
     "end_time": "2022-07-16T06:12:32.506305",
     "exception": false,
     "start_time": "2022-07-16T06:12:32.463451",
     "status": "completed"
    },
    "tags": []
   },
   "outputs": [
    {
     "data": {
      "text/plain": [
       "(13580, 21)"
      ]
     },
     "execution_count": 10,
     "metadata": {},
     "output_type": "execute_result"
    }
   ],
   "source": [
    "#Javobingizni shu yerga yozing\n",
    "df.dropna(thresh = 48)\n",
    "\n",
    "df.shape"
   ]
  },
  {
   "cell_type": "markdown",
   "id": "17a1011f",
   "metadata": {
    "papermill": {
     "duration": 0.01996,
     "end_time": "2022-07-16T06:12:32.546583",
     "exception": false,
     "start_time": "2022-07-16T06:12:32.526623",
     "status": "completed"
    },
    "tags": []
   },
   "source": [
    "## 9-VAZIFA. Yakuniy `df` ni `hdf` formatida saqlab qo'ying\n",
    "Kaggle da fayllarni o'ng burchakda `Data` tugmasini bosish orqali ko'rish (yuklab olish) mumkin:\n",
    "\n",
    "![](https://i.imgur.com/UeVJbf6.png)"
   ]
  },
  {
   "cell_type": "code",
   "execution_count": 11,
   "id": "c8d7c474",
   "metadata": {
    "execution": {
     "iopub.execute_input": "2022-07-16T06:12:32.591372Z",
     "iopub.status.busy": "2022-07-16T06:12:32.590626Z",
     "iopub.status.idle": "2022-07-16T06:12:33.060749Z",
     "shell.execute_reply": "2022-07-16T06:12:33.061295Z",
     "shell.execute_reply.started": "2022-07-16T05:25:11.756137Z"
    },
    "papermill": {
     "duration": 0.49531,
     "end_time": "2022-07-16T06:12:33.061553",
     "exception": false,
     "start_time": "2022-07-16T06:12:32.566243",
     "status": "completed"
    },
    "tags": []
   },
   "outputs": [
    {
     "name": "stderr",
     "output_type": "stream",
     "text": [
      "/opt/conda/lib/python3.7/site-packages/pandas/core/generic.py:2718: PerformanceWarning: \n",
      "your performance may suffer as PyTables will pickle object types that it cannot\n",
      "map directly to c-types [inferred_type->mixed,key->block2_values] [items->Index(['Suburb', 'Address', 'Type', 'Method', 'SellerG', 'Date', 'CouncilArea',\n",
      "       'Regionname'],\n",
      "      dtype='object')]\n",
      "\n",
      "  encoding=encoding,\n"
     ]
    }
   ],
   "source": [
    "#Javobingizni shu yerga yozing\n",
    "df.to_hdf('build.h5', key='housedt')\n",
    "df.to_csv('melb_data.csv')"
   ]
  },
  {
   "cell_type": "markdown",
   "id": "0af26411",
   "metadata": {
    "papermill": {
     "duration": 0.019711,
     "end_time": "2022-07-16T06:12:33.101547",
     "exception": false,
     "start_time": "2022-07-16T06:12:33.081836",
     "status": "completed"
    },
    "tags": []
   },
   "source": [
    "## 10-VAZIFA. Yuqoridagi `df` ni yangi `melb_data.csv` fayliga yozib oling va `hdf` fayl bilan birga GitHub akkauntingizga yuklang.\n",
    "**`df` indeksini `csv` faylga yozmang!**\n",
    "\n",
    "Keyingi amaliyotda bu fayllardan foydalanamiz.\n",
    "\n",
    "Faylni kaggledan kompyuterga yuklab olish:\n",
    "\n",
    "![](https://i.imgur.com/xXTCJmi.png)\n",
    "![](https://i.imgur.com/0OqZsSu.png)"
   ]
  },
  {
   "cell_type": "code",
   "execution_count": 12,
   "id": "f3f55765",
   "metadata": {
    "execution": {
     "iopub.execute_input": "2022-07-16T06:12:33.146696Z",
     "iopub.status.busy": "2022-07-16T06:12:33.145969Z",
     "iopub.status.idle": "2022-07-16T06:12:33.147777Z",
     "shell.execute_reply": "2022-07-16T06:12:33.148401Z",
     "shell.execute_reply.started": "2021-11-18T09:23:41.448258Z"
    },
    "papermill": {
     "duration": 0.027147,
     "end_time": "2022-07-16T06:12:33.148583",
     "exception": false,
     "start_time": "2022-07-16T06:12:33.121436",
     "status": "completed"
    },
    "tags": []
   },
   "outputs": [],
   "source": [
    "#Javobingizni shu yerga yozing\n"
   ]
  }
 ],
 "metadata": {
  "kernelspec": {
   "display_name": "Python 3",
   "language": "python",
   "name": "python3"
  },
  "language_info": {
   "codemirror_mode": {
    "name": "ipython",
    "version": 3
   },
   "file_extension": ".py",
   "mimetype": "text/x-python",
   "name": "python",
   "nbconvert_exporter": "python",
   "pygments_lexer": "ipython3",
   "version": "3.7.10"
  },
  "papermill": {
   "default_parameters": {},
   "duration": 11.93505,
   "end_time": "2022-07-16T06:12:33.779216",
   "environment_variables": {},
   "exception": null,
   "input_path": "__notebook__.ipynb",
   "output_path": "__notebook__.ipynb",
   "parameters": {},
   "start_time": "2022-07-16T06:12:21.844166",
   "version": "2.3.3"
  }
 },
 "nbformat": 4,
 "nbformat_minor": 5
}
