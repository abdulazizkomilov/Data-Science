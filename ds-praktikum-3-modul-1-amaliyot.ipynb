{
 "cells": [
  {
   "cell_type": "code",
   "execution_count": 1,
   "id": "b6a0dc67",
   "metadata": {
    "_cell_guid": "b1076dfc-b9ad-4769-8c92-a6c4dae69d19",
    "_uuid": "8f2839f25d086af736a60e9eeb907d3b93b6e0e5",
    "execution": {
     "iopub.execute_input": "2022-07-16T05:35:55.050026Z",
     "iopub.status.busy": "2022-07-16T05:35:55.041369Z",
     "iopub.status.idle": "2022-07-16T05:35:55.063706Z",
     "shell.execute_reply": "2022-07-16T05:35:55.063000Z",
     "shell.execute_reply.started": "2022-07-16T04:52:21.711411Z"
    },
    "papermill": {
     "duration": 0.044385,
     "end_time": "2022-07-16T05:35:55.063913",
     "exception": false,
     "start_time": "2022-07-16T05:35:55.019528",
     "status": "completed"
    },
    "tags": []
   },
   "outputs": [
    {
     "name": "stdout",
     "output_type": "stream",
     "text": [
      "/kaggle/input/melbourne-housing-snapshot/melb_data.csv\n"
     ]
    }
   ],
   "source": [
    "# This Python 3 environment comes with many helpful analytics libraries installed\n",
    "# It is defined by the kaggle/python Docker image: https://github.com/kaggle/docker-python\n",
    "# For example, here's several helpful packages to load\n",
    "\n",
    "import numpy as np # linear algebra\n",
    "import pandas as pd # data processing, CSV file I/O (e.g. pd.read_csv)\n",
    "\n",
    "# Input data files are available in the read-only \"../input/\" directory\n",
    "# For example, running this (by clicking run or pressing Shift+Enter) will list all files under the input directory\n",
    "\n",
    "import os\n",
    "for dirname, _, filenames in os.walk('/kaggle/input'):\n",
    "    for filename in filenames:\n",
    "        print(os.path.join(dirname, filename))\n",
    "\n",
    "# You can write up to 20GB to the current directory (/kaggle/working/) that gets preserved as output when you create a version using \"Save & Run All\" \n",
    "# You can also write temporary files to /kaggle/temp/, but they won't be saved outside of the current session"
   ]
  },
  {
   "cell_type": "code",
   "execution_count": 2,
   "id": "6c309ee6",
   "metadata": {
    "execution": {
     "iopub.execute_input": "2022-07-16T05:35:55.107183Z",
     "iopub.status.busy": "2022-07-16T05:35:55.106124Z",
     "iopub.status.idle": "2022-07-16T05:35:55.243834Z",
     "shell.execute_reply": "2022-07-16T05:35:55.244418Z",
     "shell.execute_reply.started": "2022-07-16T05:18:47.120739Z"
    },
    "papermill": {
     "duration": 0.161457,
     "end_time": "2022-07-16T05:35:55.244602",
     "exception": false,
     "start_time": "2022-07-16T05:35:55.083145",
     "status": "completed"
    },
    "tags": []
   },
   "outputs": [
    {
     "data": {
      "text/html": [
       "<div>\n",
       "<style scoped>\n",
       "    .dataframe tbody tr th:only-of-type {\n",
       "        vertical-align: middle;\n",
       "    }\n",
       "\n",
       "    .dataframe tbody tr th {\n",
       "        vertical-align: top;\n",
       "    }\n",
       "\n",
       "    .dataframe thead th {\n",
       "        text-align: right;\n",
       "    }\n",
       "</style>\n",
       "<table border=\"1\" class=\"dataframe\">\n",
       "  <thead>\n",
       "    <tr style=\"text-align: right;\">\n",
       "      <th></th>\n",
       "      <th>Suburb</th>\n",
       "      <th>Address</th>\n",
       "      <th>Rooms</th>\n",
       "      <th>Type</th>\n",
       "      <th>Price</th>\n",
       "      <th>Method</th>\n",
       "      <th>SellerG</th>\n",
       "      <th>Date</th>\n",
       "      <th>Distance</th>\n",
       "      <th>Postcode</th>\n",
       "      <th>...</th>\n",
       "      <th>Bathroom</th>\n",
       "      <th>Car</th>\n",
       "      <th>Landsize</th>\n",
       "      <th>BuildingArea</th>\n",
       "      <th>YearBuilt</th>\n",
       "      <th>CouncilArea</th>\n",
       "      <th>Lattitude</th>\n",
       "      <th>Longtitude</th>\n",
       "      <th>Regionname</th>\n",
       "      <th>Propertycount</th>\n",
       "    </tr>\n",
       "  </thead>\n",
       "  <tbody>\n",
       "    <tr>\n",
       "      <th>0</th>\n",
       "      <td>Abbotsford</td>\n",
       "      <td>85 Turner St</td>\n",
       "      <td>2</td>\n",
       "      <td>h</td>\n",
       "      <td>1480000.0</td>\n",
       "      <td>S</td>\n",
       "      <td>Biggin</td>\n",
       "      <td>3/12/2016</td>\n",
       "      <td>2.5</td>\n",
       "      <td>3067.0</td>\n",
       "      <td>...</td>\n",
       "      <td>1.0</td>\n",
       "      <td>1.0</td>\n",
       "      <td>202.0</td>\n",
       "      <td>NaN</td>\n",
       "      <td>NaN</td>\n",
       "      <td>Yarra</td>\n",
       "      <td>-37.7996</td>\n",
       "      <td>144.9984</td>\n",
       "      <td>Northern Metropolitan</td>\n",
       "      <td>4019.0</td>\n",
       "    </tr>\n",
       "    <tr>\n",
       "      <th>1</th>\n",
       "      <td>Abbotsford</td>\n",
       "      <td>25 Bloomburg St</td>\n",
       "      <td>2</td>\n",
       "      <td>h</td>\n",
       "      <td>1035000.0</td>\n",
       "      <td>S</td>\n",
       "      <td>Biggin</td>\n",
       "      <td>4/02/2016</td>\n",
       "      <td>2.5</td>\n",
       "      <td>3067.0</td>\n",
       "      <td>...</td>\n",
       "      <td>1.0</td>\n",
       "      <td>0.0</td>\n",
       "      <td>156.0</td>\n",
       "      <td>79.0</td>\n",
       "      <td>1900.0</td>\n",
       "      <td>Yarra</td>\n",
       "      <td>-37.8079</td>\n",
       "      <td>144.9934</td>\n",
       "      <td>Northern Metropolitan</td>\n",
       "      <td>4019.0</td>\n",
       "    </tr>\n",
       "    <tr>\n",
       "      <th>2</th>\n",
       "      <td>Abbotsford</td>\n",
       "      <td>5 Charles St</td>\n",
       "      <td>3</td>\n",
       "      <td>h</td>\n",
       "      <td>1465000.0</td>\n",
       "      <td>SP</td>\n",
       "      <td>Biggin</td>\n",
       "      <td>4/03/2017</td>\n",
       "      <td>2.5</td>\n",
       "      <td>3067.0</td>\n",
       "      <td>...</td>\n",
       "      <td>2.0</td>\n",
       "      <td>0.0</td>\n",
       "      <td>134.0</td>\n",
       "      <td>150.0</td>\n",
       "      <td>1900.0</td>\n",
       "      <td>Yarra</td>\n",
       "      <td>-37.8093</td>\n",
       "      <td>144.9944</td>\n",
       "      <td>Northern Metropolitan</td>\n",
       "      <td>4019.0</td>\n",
       "    </tr>\n",
       "    <tr>\n",
       "      <th>3</th>\n",
       "      <td>Abbotsford</td>\n",
       "      <td>40 Federation La</td>\n",
       "      <td>3</td>\n",
       "      <td>h</td>\n",
       "      <td>850000.0</td>\n",
       "      <td>PI</td>\n",
       "      <td>Biggin</td>\n",
       "      <td>4/03/2017</td>\n",
       "      <td>2.5</td>\n",
       "      <td>3067.0</td>\n",
       "      <td>...</td>\n",
       "      <td>2.0</td>\n",
       "      <td>1.0</td>\n",
       "      <td>94.0</td>\n",
       "      <td>NaN</td>\n",
       "      <td>NaN</td>\n",
       "      <td>Yarra</td>\n",
       "      <td>-37.7969</td>\n",
       "      <td>144.9969</td>\n",
       "      <td>Northern Metropolitan</td>\n",
       "      <td>4019.0</td>\n",
       "    </tr>\n",
       "    <tr>\n",
       "      <th>4</th>\n",
       "      <td>Abbotsford</td>\n",
       "      <td>55a Park St</td>\n",
       "      <td>4</td>\n",
       "      <td>h</td>\n",
       "      <td>1600000.0</td>\n",
       "      <td>VB</td>\n",
       "      <td>Nelson</td>\n",
       "      <td>4/06/2016</td>\n",
       "      <td>2.5</td>\n",
       "      <td>3067.0</td>\n",
       "      <td>...</td>\n",
       "      <td>1.0</td>\n",
       "      <td>2.0</td>\n",
       "      <td>120.0</td>\n",
       "      <td>142.0</td>\n",
       "      <td>2014.0</td>\n",
       "      <td>Yarra</td>\n",
       "      <td>-37.8072</td>\n",
       "      <td>144.9941</td>\n",
       "      <td>Northern Metropolitan</td>\n",
       "      <td>4019.0</td>\n",
       "    </tr>\n",
       "  </tbody>\n",
       "</table>\n",
       "<p>5 rows × 21 columns</p>\n",
       "</div>"
      ],
      "text/plain": [
       "       Suburb           Address  Rooms Type      Price Method SellerG  \\\n",
       "0  Abbotsford      85 Turner St      2    h  1480000.0      S  Biggin   \n",
       "1  Abbotsford   25 Bloomburg St      2    h  1035000.0      S  Biggin   \n",
       "2  Abbotsford      5 Charles St      3    h  1465000.0     SP  Biggin   \n",
       "3  Abbotsford  40 Federation La      3    h   850000.0     PI  Biggin   \n",
       "4  Abbotsford       55a Park St      4    h  1600000.0     VB  Nelson   \n",
       "\n",
       "        Date  Distance  Postcode  ...  Bathroom  Car  Landsize  BuildingArea  \\\n",
       "0  3/12/2016       2.5    3067.0  ...       1.0  1.0     202.0           NaN   \n",
       "1  4/02/2016       2.5    3067.0  ...       1.0  0.0     156.0          79.0   \n",
       "2  4/03/2017       2.5    3067.0  ...       2.0  0.0     134.0         150.0   \n",
       "3  4/03/2017       2.5    3067.0  ...       2.0  1.0      94.0           NaN   \n",
       "4  4/06/2016       2.5    3067.0  ...       1.0  2.0     120.0         142.0   \n",
       "\n",
       "   YearBuilt  CouncilArea Lattitude  Longtitude             Regionname  \\\n",
       "0        NaN        Yarra  -37.7996    144.9984  Northern Metropolitan   \n",
       "1     1900.0        Yarra  -37.8079    144.9934  Northern Metropolitan   \n",
       "2     1900.0        Yarra  -37.8093    144.9944  Northern Metropolitan   \n",
       "3        NaN        Yarra  -37.7969    144.9969  Northern Metropolitan   \n",
       "4     2014.0        Yarra  -37.8072    144.9941  Northern Metropolitan   \n",
       "\n",
       "  Propertycount  \n",
       "0        4019.0  \n",
       "1        4019.0  \n",
       "2        4019.0  \n",
       "3        4019.0  \n",
       "4        4019.0  \n",
       "\n",
       "[5 rows x 21 columns]"
      ]
     },
     "execution_count": 2,
     "metadata": {},
     "output_type": "execute_result"
    }
   ],
   "source": [
    "df = pd.read_csv(\"/kaggle/input/melbourne-housing-snapshot/melb_data.csv\")\n",
    "df.head()"
   ]
  },
  {
   "cell_type": "markdown",
   "id": "d916c212",
   "metadata": {
    "papermill": {
     "duration": 0.018173,
     "end_time": "2022-07-16T05:35:55.281873",
     "exception": false,
     "start_time": "2022-07-16T05:35:55.263700",
     "status": "completed"
    },
    "tags": []
   },
   "source": [
    "Yuqoridagi jadval Avstraliyaning Melburn shahridagi sotiladigna uylar haqidagi ma'lumotlarni jamlagan. Batafsil https://www.kaggle.com/dansbecker/melbourne-housing-snapshot/home"
   ]
  },
  {
   "cell_type": "markdown",
   "id": "9b4db40b",
   "metadata": {
    "papermill": {
     "duration": 0.018554,
     "end_time": "2022-07-16T05:35:55.318880",
     "exception": false,
     "start_time": "2022-07-16T05:35:55.300326",
     "status": "completed"
    },
    "tags": []
   },
   "source": [
    "## 1-VAZIFA: `df` qatorlari sonini chiqaring"
   ]
  },
  {
   "cell_type": "code",
   "execution_count": 3,
   "id": "eca0b7f2",
   "metadata": {
    "execution": {
     "iopub.execute_input": "2022-07-16T05:35:55.363645Z",
     "iopub.status.busy": "2022-07-16T05:35:55.362771Z",
     "iopub.status.idle": "2022-07-16T05:35:55.366276Z",
     "shell.execute_reply": "2022-07-16T05:35:55.366813Z",
     "shell.execute_reply.started": "2022-07-16T04:53:26.227757Z"
    },
    "papermill": {
     "duration": 0.028949,
     "end_time": "2022-07-16T05:35:55.367033",
     "exception": false,
     "start_time": "2022-07-16T05:35:55.338084",
     "status": "completed"
    },
    "tags": []
   },
   "outputs": [
    {
     "data": {
      "text/plain": [
       "(13580, 21)"
      ]
     },
     "execution_count": 3,
     "metadata": {},
     "output_type": "execute_result"
    }
   ],
   "source": [
    "#Javobingizni shu yerga yozing\n",
    "df.shape"
   ]
  },
  {
   "cell_type": "markdown",
   "id": "92e06593",
   "metadata": {
    "papermill": {
     "duration": 0.018895,
     "end_time": "2022-07-16T05:35:55.405073",
     "exception": false,
     "start_time": "2022-07-16T05:35:55.386178",
     "status": "completed"
    },
    "tags": []
   },
   "source": [
    "## 2-VAZIFA. `df` haqida statistik ma'lumotlarni chiqaring"
   ]
  },
  {
   "cell_type": "code",
   "execution_count": 4,
   "id": "ad9eef76",
   "metadata": {
    "execution": {
     "iopub.execute_input": "2022-07-16T05:35:55.455114Z",
     "iopub.status.busy": "2022-07-16T05:35:55.453888Z",
     "iopub.status.idle": "2022-07-16T05:35:55.531970Z",
     "shell.execute_reply": "2022-07-16T05:35:55.531191Z",
     "shell.execute_reply.started": "2022-07-16T04:55:35.284977Z"
    },
    "papermill": {
     "duration": 0.107676,
     "end_time": "2022-07-16T05:35:55.532161",
     "exception": false,
     "start_time": "2022-07-16T05:35:55.424485",
     "status": "completed"
    },
    "tags": []
   },
   "outputs": [
    {
     "name": "stdout",
     "output_type": "stream",
     "text": [
      "<class 'pandas.core.frame.DataFrame'>\n",
      "RangeIndex: 13580 entries, 0 to 13579\n",
      "Data columns (total 21 columns):\n",
      " #   Column         Non-Null Count  Dtype  \n",
      "---  ------         --------------  -----  \n",
      " 0   Suburb         13580 non-null  object \n",
      " 1   Address        13580 non-null  object \n",
      " 2   Rooms          13580 non-null  int64  \n",
      " 3   Type           13580 non-null  object \n",
      " 4   Price          13580 non-null  float64\n",
      " 5   Method         13580 non-null  object \n",
      " 6   SellerG        13580 non-null  object \n",
      " 7   Date           13580 non-null  object \n",
      " 8   Distance       13580 non-null  float64\n",
      " 9   Postcode       13580 non-null  float64\n",
      " 10  Bedroom2       13580 non-null  float64\n",
      " 11  Bathroom       13580 non-null  float64\n",
      " 12  Car            13518 non-null  float64\n",
      " 13  Landsize       13580 non-null  float64\n",
      " 14  BuildingArea   7130 non-null   float64\n",
      " 15  YearBuilt      8205 non-null   float64\n",
      " 16  CouncilArea    12211 non-null  object \n",
      " 17  Lattitude      13580 non-null  float64\n",
      " 18  Longtitude     13580 non-null  float64\n",
      " 19  Regionname     13580 non-null  object \n",
      " 20  Propertycount  13580 non-null  float64\n",
      "dtypes: float64(12), int64(1), object(8)\n",
      "memory usage: 2.2+ MB\n"
     ]
    }
   ],
   "source": [
    "#Javobingizni shu yerga yozing\n",
    "df.describe()\n",
    "df.info()"
   ]
  },
  {
   "cell_type": "markdown",
   "id": "bff669a3",
   "metadata": {
    "papermill": {
     "duration": 0.023533,
     "end_time": "2022-07-16T05:35:55.586565",
     "exception": false,
     "start_time": "2022-07-16T05:35:55.563032",
     "status": "completed"
    },
    "tags": []
   },
   "source": [
    "## 3-VAZIFA: Har bir ustundagi `NaN` qiymatlar sonini chiqaring"
   ]
  },
  {
   "cell_type": "code",
   "execution_count": 5,
   "id": "0c64f11d",
   "metadata": {
    "execution": {
     "iopub.execute_input": "2022-07-16T05:35:55.635537Z",
     "iopub.status.busy": "2022-07-16T05:35:55.634787Z",
     "iopub.status.idle": "2022-07-16T05:35:55.652899Z",
     "shell.execute_reply": "2022-07-16T05:35:55.653538Z",
     "shell.execute_reply.started": "2022-07-16T04:57:00.545150Z"
    },
    "papermill": {
     "duration": 0.040719,
     "end_time": "2022-07-16T05:35:55.653744",
     "exception": false,
     "start_time": "2022-07-16T05:35:55.613025",
     "status": "completed"
    },
    "tags": []
   },
   "outputs": [
    {
     "data": {
      "text/plain": [
       "Suburb              0\n",
       "Address             0\n",
       "Rooms               0\n",
       "Type                0\n",
       "Price               0\n",
       "Method              0\n",
       "SellerG             0\n",
       "Date                0\n",
       "Distance            0\n",
       "Postcode            0\n",
       "Bedroom2            0\n",
       "Bathroom            0\n",
       "Car                62\n",
       "Landsize            0\n",
       "BuildingArea     6450\n",
       "YearBuilt        5375\n",
       "CouncilArea      1369\n",
       "Lattitude           0\n",
       "Longtitude          0\n",
       "Regionname          0\n",
       "Propertycount       0\n",
       "dtype: int64"
      ]
     },
     "execution_count": 5,
     "metadata": {},
     "output_type": "execute_result"
    }
   ],
   "source": [
    "#Javobingizni shu yerga yozing\n",
    "df.isnull().sum()"
   ]
  },
  {
   "cell_type": "markdown",
   "id": "213f54c6",
   "metadata": {
    "papermill": {
     "duration": 0.020057,
     "end_time": "2022-07-16T05:35:55.693582",
     "exception": false,
     "start_time": "2022-07-16T05:35:55.673525",
     "status": "completed"
    },
    "tags": []
   },
   "source": [
    "## 4-VAZIFA. Har bir ustun uchun `NaN` qiymatlar necha fozini tashkil qilishini toping"
   ]
  },
  {
   "cell_type": "code",
   "execution_count": 6,
   "id": "07eb44dc",
   "metadata": {
    "execution": {
     "iopub.execute_input": "2022-07-16T05:35:55.738878Z",
     "iopub.status.busy": "2022-07-16T05:35:55.738154Z",
     "iopub.status.idle": "2022-07-16T05:35:55.755978Z",
     "shell.execute_reply": "2022-07-16T05:35:55.756603Z",
     "shell.execute_reply.started": "2022-07-16T05:05:59.829871Z"
    },
    "papermill": {
     "duration": 0.043538,
     "end_time": "2022-07-16T05:35:55.756841",
     "exception": false,
     "start_time": "2022-07-16T05:35:55.713303",
     "status": "completed"
    },
    "tags": []
   },
   "outputs": [
    {
     "data": {
      "text/plain": [
       "Suburb            0.000000\n",
       "Address           0.000000\n",
       "Rooms             0.000000\n",
       "Type              0.000000\n",
       "Price             0.000000\n",
       "Method            0.000000\n",
       "SellerG           0.000000\n",
       "Date              0.000000\n",
       "Distance          0.000000\n",
       "Postcode          0.000000\n",
       "Bedroom2          0.000000\n",
       "Bathroom          0.000000\n",
       "Car               0.456554\n",
       "Landsize          0.000000\n",
       "BuildingArea     47.496318\n",
       "YearBuilt        39.580265\n",
       "CouncilArea      10.081001\n",
       "Lattitude         0.000000\n",
       "Longtitude        0.000000\n",
       "Regionname        0.000000\n",
       "Propertycount     0.000000\n",
       "dtype: float64"
      ]
     },
     "execution_count": 6,
     "metadata": {},
     "output_type": "execute_result"
    }
   ],
   "source": [
    "#Javobingizni shu yerga yozing\n",
    "nulls = df.isnull().sum()\n",
    "rows = df.shape[0]\n",
    "(nulls/rows)*100"
   ]
  },
  {
   "cell_type": "markdown",
   "id": "fb12f4f7",
   "metadata": {
    "papermill": {
     "duration": 0.020004,
     "end_time": "2022-07-16T05:35:55.796859",
     "exception": false,
     "start_time": "2022-07-16T05:35:55.776855",
     "status": "completed"
    },
    "tags": []
   },
   "source": [
    "## 5-VAZIFA. Barcha `NaN` qatnashgan qatorlarni tashlab yuboring (natijani **SAQLAMANG!!!**)"
   ]
  },
  {
   "cell_type": "code",
   "execution_count": 7,
   "id": "82df632f",
   "metadata": {
    "execution": {
     "iopub.execute_input": "2022-07-16T05:35:55.841318Z",
     "iopub.status.busy": "2022-07-16T05:35:55.840589Z",
     "iopub.status.idle": "2022-07-16T05:35:55.860189Z",
     "shell.execute_reply": "2022-07-16T05:35:55.860831Z",
     "shell.execute_reply.started": "2022-07-16T05:09:43.724325Z"
    },
    "papermill": {
     "duration": 0.043701,
     "end_time": "2022-07-16T05:35:55.861041",
     "exception": false,
     "start_time": "2022-07-16T05:35:55.817340",
     "status": "completed"
    },
    "tags": []
   },
   "outputs": [
    {
     "data": {
      "text/plain": [
       "(6196, 21)"
      ]
     },
     "execution_count": 7,
     "metadata": {},
     "output_type": "execute_result"
    }
   ],
   "source": [
    "#Javobingizni shu yerga yozing\n",
    "df2 = df.dropna()\n",
    "df2.shape"
   ]
  },
  {
   "cell_type": "markdown",
   "id": "2dc99e00",
   "metadata": {
    "papermill": {
     "duration": 0.020736,
     "end_time": "2022-07-16T05:35:55.902900",
     "exception": false,
     "start_time": "2022-07-16T05:35:55.882164",
     "status": "completed"
    },
    "tags": []
   },
   "source": [
    "## 6-VAZIFA. Barcha `NaN` bor ustunlarni tashlab yuboring (natijani **SAQLAMANG!!!**)"
   ]
  },
  {
   "cell_type": "code",
   "execution_count": 8,
   "id": "a50eb520",
   "metadata": {
    "execution": {
     "iopub.execute_input": "2022-07-16T05:35:55.947251Z",
     "iopub.status.busy": "2022-07-16T05:35:55.946527Z",
     "iopub.status.idle": "2022-07-16T05:35:55.966636Z",
     "shell.execute_reply": "2022-07-16T05:35:55.967271Z",
     "shell.execute_reply.started": "2022-07-16T05:10:38.625369Z"
    },
    "papermill": {
     "duration": 0.044046,
     "end_time": "2022-07-16T05:35:55.967462",
     "exception": false,
     "start_time": "2022-07-16T05:35:55.923416",
     "status": "completed"
    },
    "tags": []
   },
   "outputs": [
    {
     "data": {
      "text/plain": [
       "(13580, 17)"
      ]
     },
     "execution_count": 8,
     "metadata": {},
     "output_type": "execute_result"
    }
   ],
   "source": [
    "#Javobingizni shu yerga yozing\n",
    "df2 = df.dropna(axis=1)\n",
    "df2.shape"
   ]
  },
  {
   "cell_type": "markdown",
   "id": "3e8e98db",
   "metadata": {
    "papermill": {
     "duration": 0.021261,
     "end_time": "2022-07-16T05:35:56.009644",
     "exception": false,
     "start_time": "2022-07-16T05:35:55.988383",
     "status": "completed"
    },
    "tags": []
   },
   "source": [
    "## 7-VAZIFA. Eng ko'p NaN qiymatlar bor ustundagi NaN qatorlarini tashlab yuboring (natijani SAQLAMANG!!!)¶"
   ]
  },
  {
   "cell_type": "code",
   "execution_count": 9,
   "id": "75a340a8",
   "metadata": {
    "execution": {
     "iopub.execute_input": "2022-07-16T05:35:56.057028Z",
     "iopub.status.busy": "2022-07-16T05:35:56.056322Z",
     "iopub.status.idle": "2022-07-16T05:35:56.068374Z",
     "shell.execute_reply": "2022-07-16T05:35:56.069048Z",
     "shell.execute_reply.started": "2022-07-16T05:15:07.507144Z"
    },
    "papermill": {
     "duration": 0.03769,
     "end_time": "2022-07-16T05:35:56.069241",
     "exception": false,
     "start_time": "2022-07-16T05:35:56.031551",
     "status": "completed"
    },
    "tags": []
   },
   "outputs": [
    {
     "data": {
      "text/plain": [
       "(6196, 21)"
      ]
     },
     "execution_count": 9,
     "metadata": {},
     "output_type": "execute_result"
    }
   ],
   "source": [
    "#Javobingizni shu yerga yozing\n",
    "df2 = df.dropna(subset=['BuildingArea','YearBuilt', 'CouncilArea'])\n",
    "df2.shape"
   ]
  },
  {
   "cell_type": "markdown",
   "id": "ee0f0a60",
   "metadata": {
    "papermill": {
     "duration": 0.020672,
     "end_time": "2022-07-16T05:35:56.111486",
     "exception": false,
     "start_time": "2022-07-16T05:35:56.090814",
     "status": "completed"
    },
    "tags": []
   },
   "source": [
    "## 8-VAZIFA. Eng kam `NaN` qiymatlar mavjud ustunning **`NaN` qatnashgan qatorlarini** tashlab yuboring va natijani asl `df` da saqlab qoling."
   ]
  },
  {
   "cell_type": "code",
   "execution_count": 10,
   "id": "9b937965",
   "metadata": {
    "execution": {
     "iopub.execute_input": "2022-07-16T05:35:56.156994Z",
     "iopub.status.busy": "2022-07-16T05:35:56.156287Z",
     "iopub.status.idle": "2022-07-16T05:35:56.176598Z",
     "shell.execute_reply": "2022-07-16T05:35:56.177239Z",
     "shell.execute_reply.started": "2022-07-16T05:19:33.289046Z"
    },
    "papermill": {
     "duration": 0.044868,
     "end_time": "2022-07-16T05:35:56.177446",
     "exception": false,
     "start_time": "2022-07-16T05:35:56.132578",
     "status": "completed"
    },
    "tags": []
   },
   "outputs": [
    {
     "data": {
      "text/plain": [
       "(13580, 17)"
      ]
     },
     "execution_count": 10,
     "metadata": {},
     "output_type": "execute_result"
    }
   ],
   "source": [
    "#Javobingizni shu yerga yozing\n",
    "df.dropna(axis=1, inplace=True)\n",
    "\n",
    "df.shape"
   ]
  },
  {
   "cell_type": "markdown",
   "id": "9d4faf74",
   "metadata": {
    "papermill": {
     "duration": 0.021197,
     "end_time": "2022-07-16T05:35:56.220537",
     "exception": false,
     "start_time": "2022-07-16T05:35:56.199340",
     "status": "completed"
    },
    "tags": []
   },
   "source": [
    "## 9-VAZIFA. Yakuniy `df` ni `hdf` formatida saqlab qo'ying\n",
    "Kaggle da fayllarni o'ng burchakda `Data` tugmasini bosish orqali ko'rish (yuklab olish) mumkin:\n",
    "\n",
    "![](https://i.imgur.com/UeVJbf6.png)"
   ]
  },
  {
   "cell_type": "code",
   "execution_count": 11,
   "id": "8f084755",
   "metadata": {
    "execution": {
     "iopub.execute_input": "2022-07-16T05:35:56.267183Z",
     "iopub.status.busy": "2022-07-16T05:35:56.266432Z",
     "iopub.status.idle": "2022-07-16T05:35:56.667802Z",
     "shell.execute_reply": "2022-07-16T05:35:56.668370Z",
     "shell.execute_reply.started": "2022-07-16T05:25:11.756137Z"
    },
    "papermill": {
     "duration": 0.426683,
     "end_time": "2022-07-16T05:35:56.668575",
     "exception": false,
     "start_time": "2022-07-16T05:35:56.241892",
     "status": "completed"
    },
    "tags": []
   },
   "outputs": [],
   "source": [
    "#Javobingizni shu yerga yozing\n",
    "df.to_hdf('build.h5', key='housedt')\n",
    "df.to_csv('melb_data.csv')"
   ]
  },
  {
   "cell_type": "markdown",
   "id": "b1591a90",
   "metadata": {
    "papermill": {
     "duration": 0.021714,
     "end_time": "2022-07-16T05:35:56.712141",
     "exception": false,
     "start_time": "2022-07-16T05:35:56.690427",
     "status": "completed"
    },
    "tags": []
   },
   "source": [
    "## 10-VAZIFA. Yuqoridagi `df` ni yangi `melb_data.csv` fayliga yozib oling va `hdf` fayl bilan birga GitHub akkauntingizga yuklang.\n",
    "**`df` indeksini `csv` faylga yozmang!**\n",
    "\n",
    "Keyingi amaliyotda bu fayllardan foydalanamiz.\n",
    "\n",
    "Faylni kaggledan kompyuterga yuklab olish:\n",
    "\n",
    "![](https://i.imgur.com/xXTCJmi.png)\n",
    "![](https://i.imgur.com/0OqZsSu.png)"
   ]
  },
  {
   "cell_type": "code",
   "execution_count": 12,
   "id": "5a627460",
   "metadata": {
    "execution": {
     "iopub.execute_input": "2022-07-16T05:35:56.759186Z",
     "iopub.status.busy": "2022-07-16T05:35:56.758445Z",
     "iopub.status.idle": "2022-07-16T05:35:56.762036Z",
     "shell.execute_reply": "2022-07-16T05:35:56.762672Z",
     "shell.execute_reply.started": "2021-11-18T09:23:41.448258Z"
    },
    "papermill": {
     "duration": 0.028887,
     "end_time": "2022-07-16T05:35:56.762856",
     "exception": false,
     "start_time": "2022-07-16T05:35:56.733969",
     "status": "completed"
    },
    "tags": []
   },
   "outputs": [],
   "source": [
    "#Javobingizni shu yerga yozing\n"
   ]
  }
 ],
 "metadata": {
  "kernelspec": {
   "display_name": "Python 3",
   "language": "python",
   "name": "python3"
  },
  "language_info": {
   "codemirror_mode": {
    "name": "ipython",
    "version": 3
   },
   "file_extension": ".py",
   "mimetype": "text/x-python",
   "name": "python",
   "nbconvert_exporter": "python",
   "pygments_lexer": "ipython3",
   "version": "3.7.10"
  },
  "papermill": {
   "default_parameters": {},
   "duration": 12.122754,
   "end_time": "2022-07-16T05:35:57.394812",
   "environment_variables": {},
   "exception": null,
   "input_path": "__notebook__.ipynb",
   "output_path": "__notebook__.ipynb",
   "parameters": {},
   "start_time": "2022-07-16T05:35:45.272058",
   "version": "2.3.3"
  }
 },
 "nbformat": 4,
 "nbformat_minor": 5
}
