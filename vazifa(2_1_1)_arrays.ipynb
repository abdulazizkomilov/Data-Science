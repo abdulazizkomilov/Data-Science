{
  "nbformat": 4,
  "nbformat_minor": 0,
  "metadata": {
    "kernelspec": {
      "display_name": "Python 3 (ipykernel)",
      "language": "python",
      "name": "python3"
    },
    "language_info": {
      "codemirror_mode": {
        "name": "ipython",
        "version": 3
      },
      "file_extension": ".py",
      "mimetype": "text/x-python",
      "name": "python",
      "nbconvert_exporter": "python",
      "pygments_lexer": "ipython3",
      "version": "3.9.7"
    },
    "colab": {
      "name": "vazifa(2_1_1)_arrays.ipynb",
      "provenance": [],
      "collapsed_sections": [],
      "include_colab_link": true
    }
  },
  "cells": [
    {
      "cell_type": "markdown",
      "metadata": {
        "id": "view-in-github",
        "colab_type": "text"
      },
      "source": [
        "<a href=\"https://colab.research.google.com/github/abdulazizkomilov/Data-Science/blob/main/vazifa(2_1_1)_arrays.ipynb\" target=\"_parent\"><img src=\"https://colab.research.google.com/assets/colab-badge.svg\" alt=\"Open In Colab\"/></a>"
      ]
    },
    {
      "cell_type": "markdown",
      "metadata": {
        "id": "s85VFK1vGCw8"
      },
      "source": [
        "Faqatgina `YOUR CODE HERE` yoki \"YOUR ANSWER HERE\" deyilgan joyga dasturingizni yoki javobingizni yozing"
      ]
    },
    {
      "cell_type": "code",
      "metadata": {
        "id": "QLMcArxLGCxN"
      },
      "source": [
        "NAME = \"\"\n",
        "COLLABORATORS = \"Mohirdev\""
      ],
      "execution_count": null,
      "outputs": []
    },
    {
      "cell_type": "markdown",
      "metadata": {
        "id": "mPIB71IKGCxS"
      },
      "source": [
        "---"
      ]
    },
    {
      "cell_type": "markdown",
      "metadata": {
        "deletable": false,
        "editable": false,
        "nbgrader": {
          "cell_type": "markdown",
          "checksum": "535c21960d4663d5edac398cb445d087",
          "grade": false,
          "grade_id": "jupyter",
          "locked": true,
          "schema_version": 3,
          "solution": false
        },
        "id": "Mtws6PH7GCxU"
      },
      "source": [
        "For this problem set, we'll be using the Jupyter notebook:\n",
        "\n",
        "![](jupyter.png)"
      ]
    },
    {
      "cell_type": "markdown",
      "metadata": {
        "id": "89mVqj3vGCxW"
      },
      "source": [
        "---\n",
        "# Ma'lumotlar tahlili\n",
        "\n",
        "## 2.1.1. N-O'lchovli massivlarga ishlov berish\n"
      ]
    },
    {
      "cell_type": "code",
      "metadata": {
        "id": "OmL0BtDXGCxY"
      },
      "source": [
        "# Numpy kutubxonasini chaqirib olish\n",
        "import numpy as np"
      ],
      "execution_count": 1,
      "outputs": []
    },
    {
      "cell_type": "markdown",
      "metadata": {
        "id": "yOhuvUhgGCxa"
      },
      "source": [
        "### Masala(1): 1-o'lchamli massivlar yaratish (4 points)\n",
        "\n",
        "**Masala sharti :** Elementlari ixtiyoriy  *n* ta  (*n* > 0, butun son) bo'lgan 1-o'lchamli massiv (array) yaratuvchi funksiyani tuzing. \n",
        "\n",
        "**Yordam :**  `array` yoki `random` funksiyasidan foydalaning. \n"
      ]
    },
    {
      "cell_type": "code",
      "metadata": {
        "deletable": false,
        "nbgrader": {
          "cell_type": "code",
          "checksum": "9e35c9ace5b3c33bc1d80237fd6daca2",
          "grade": false,
          "grade_id": "one_dim",
          "locked": false,
          "schema_version": 3,
          "solution": true
        },
        "id": "Dsy6FTVHGCxd"
      },
      "source": [
        "def one_dim(n):\n",
        "    \"\"\" n ta elementdan tashkil topgan 1-o'lchamli massiv   \n",
        "    \"\"\"\n",
        "    # YOUR CODE HERE\n",
        "    data2 = np.arange(n)\n",
        "    return data2"
      ],
      "execution_count": 44,
      "outputs": []
    },
    {
      "cell_type": "markdown",
      "metadata": {
        "id": "GZIzyoY0GCxh"
      },
      "source": [
        "Sizning funksiyangiz `n`elementlari soni, `ndim` massiv o'lchami, hamda numpy array ekanligi orqali tekshiriladi: funksiyangizni pastdagi cellda tekshirib ko'ring"
      ]
    },
    {
      "cell_type": "code",
      "metadata": {
        "deletable": false,
        "editable": false,
        "nbgrader": {
          "cell_type": "code",
          "checksum": "01e7b44c02b60d079cb42ad0468de31c",
          "grade": true,
          "grade_id": "correct_one_dim",
          "locked": false,
          "points": 4,
          "schema_version": 3,
          "solution": false
        },
        "id": "D6m8GteTGCxk"
      },
      "source": [
        "\"\"\"Check that squares returns the correct output for several inputs\"\"\"\n",
        "for i in range(1, 10):\n",
        "    assert len(one_dim(i)) == i  # n elementlar soni\n",
        "    arr = one_dim(i) # massiv\n",
        "    assert arr.ndim == 1 # massiv o'lchami\n",
        "    assert type(arr) == np.ndarray # #numpy array "
      ],
      "execution_count": 45,
      "outputs": []
    },
    {
      "cell_type": "markdown",
      "metadata": {
        "id": "Te1G5nfGGCxm"
      },
      "source": [
        "### Masala(2) 2-o'lchamli massivlar yaratish (6 points)\n",
        "\n",
        "**Masala :** Shakli `shape(r, c)` bo'lgan 2-o'lchamli massiv (array) yaratuvchi funksiyani tuzing.  \n",
        "\n",
        "**Yordam :** numpy kutubxonasida massivlar yaratuvchi funksiyalarining istalganidan foydlanishingiz mumkin. \n"
      ]
    },
    {
      "cell_type": "code",
      "metadata": {
        "deletable": false,
        "nbgrader": {
          "cell_type": "code",
          "checksum": "f8c5bc59c7ec8f5ac5cd6987305bda9a",
          "grade": false,
          "grade_id": "two_dim",
          "locked": false,
          "schema_version": 3,
          "solution": true,
          "task": false
        },
        "id": "QLryHm8mGCxo"
      },
      "source": [
        "def two_dim(r, c):\n",
        "    \"\"\" r ta qator, c ta ustundan tashkil topgan 2-o'lchamli massiv  \n",
        "    \"\"\"\n",
        "    # YOUR CODE HERE\n",
        "    data3 = np.ones(shape=(r, c))\n",
        "    return data3"
      ],
      "execution_count": 6,
      "outputs": []
    },
    {
      "cell_type": "markdown",
      "metadata": {
        "id": "ke_4idNnGCxq"
      },
      "source": [
        "Funksiyangizni pastdagi cellda test qilib ko'ring"
      ]
    },
    {
      "cell_type": "code",
      "metadata": {
        "deletable": false,
        "editable": false,
        "nbgrader": {
          "cell_type": "code",
          "checksum": "b728809a382d34a899c960d9944bbfe8",
          "grade": true,
          "grade_id": "correct_two_dim",
          "locked": true,
          "points": 6,
          "schema_version": 3,
          "solution": false,
          "task": false
        },
        "id": "SFYjOoz7GCxr"
      },
      "source": [
        "arr = two_dim(3, 2) # massiv\n",
        "assert arr.shape == (3, 2) # shape\n",
        "assert arr.ndim == 2 # massiv o'lchami\n",
        "assert type(arr) == np.ndarray # #numpy array "
      ],
      "execution_count": 7,
      "outputs": []
    },
    {
      "cell_type": "code",
      "metadata": {
        "colab": {
          "base_uri": "https://localhost:8080/"
        },
        "id": "n6XgNacDGCxt",
        "outputId": "020e51e6-4883-4021-c155-4f687222908f"
      },
      "source": [
        "data2 = np.arange(20)\n",
        "data2"
      ],
      "execution_count": 43,
      "outputs": [
        {
          "output_type": "execute_result",
          "data": {
            "text/plain": [
              "array([ 0,  1,  2,  3,  4,  5,  6,  7,  8,  9, 10, 11, 12, 13, 14, 15, 16,\n",
              "       17, 18, 19])"
            ]
          },
          "metadata": {},
          "execution_count": 43
        }
      ]
    }
  ]
}